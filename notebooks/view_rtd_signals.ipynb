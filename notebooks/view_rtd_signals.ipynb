{
 "cells": [
  {
   "cell_type": "code",
   "execution_count": 22,
   "metadata": {},
   "outputs": [],
   "source": [
    "import numpy as np\n",
    "import os\n",
    "import json\n",
    "import matplotlib.pyplot as plt"
   ]
  },
  {
   "cell_type": "code",
   "execution_count": 32,
   "metadata": {},
   "outputs": [],
   "source": [
    "RTD_FOLDER = \"/home/drozdovmk/Projects/ZB/data/kashira_door/2\" \n",
    "\n",
    "files_list = sorted(os.listdir(RTD_FOLDER))"
   ]
  },
  {
   "cell_type": "code",
   "execution_count": 33,
   "metadata": {},
   "outputs": [],
   "source": [
    "n_reflects = 0\n",
    "json_objects = []\n",
    "\n",
    "\n",
    "for k in range(len(files_list)):\n",
    "    pointer = 0\n",
    "    path_to_rtd = os.path.join(RTD_FOLDER, files_list[k])\n",
    "    with open(path_to_rtd, \"rb\") as f:\n",
    "        buffer = f.read(500)\n",
    "        pointer = buffer.find(b'\\x7D')\n",
    "        f.seek(0) \n",
    "        header = f.read(pointer+1)\n",
    "        json_objects.append(json.loads(header))\n",
    "        \n",
    "    n_reflects += json_objects[k]['numTraces']\n",
    "\n",
    "ref_lenght = json_objects[0]['traceSize']\n",
    "header_offset = 4096\n",
    "data = np.zeros(shape=(n_reflects, ref_lenght), dtype=np.uint16)\n",
    "prev = 0\n",
    "\n",
    "for n_file in range(len(files_list)):\n",
    "    pathname = os.path.join(RTD_FOLDER, files_list[n_file])\n",
    "    for k in range(json_objects[n_file]['numTraces']):\n",
    "        data[prev+k,:] = np.fromfile(pathname,\n",
    "                                     dtype=np.uint16,\n",
    "                                     count=ref_lenght,\n",
    "                                     sep='',\n",
    "                                     offset=header_offset+ref_lenght*2*k)\n",
    "    prev += json_objects[n_file]['numTraces']"
   ]
  },
  {
   "cell_type": "code",
   "execution_count": null,
   "metadata": {},
   "outputs": [],
   "source": [
    "print(data.shape)"
   ]
  }
 ],
 "metadata": {
  "kernelspec": {
   "display_name": "ZB",
   "language": "python",
   "name": "python3"
  },
  "language_info": {
   "codemirror_mode": {
    "name": "ipython",
    "version": 3
   },
   "file_extension": ".py",
   "mimetype": "text/x-python",
   "name": "python",
   "nbconvert_exporter": "python",
   "pygments_lexer": "ipython3",
   "version": "3.12.2"
  }
 },
 "nbformat": 4,
 "nbformat_minor": 2
}
